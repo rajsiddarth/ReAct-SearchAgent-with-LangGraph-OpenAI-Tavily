{
 "cells": [
  {
   "cell_type": "code",
   "execution_count": 92,
   "id": "6b110a5a-3f75-4423-86b0-396cef16071d",
   "metadata": {},
   "outputs": [
    {
     "name": "stdout",
     "output_type": "stream",
     "text": [
      "Requirement already satisfied: langgraph in /opt/anaconda3/lib/python3.12/site-packages (0.6.3)\n",
      "Requirement already satisfied: langchain-core>=0.1 in /opt/anaconda3/lib/python3.12/site-packages (from langgraph) (0.3.72)\n",
      "Requirement already satisfied: langgraph-checkpoint<3.0.0,>=2.1.0 in /opt/anaconda3/lib/python3.12/site-packages (from langgraph) (2.1.1)\n",
      "Requirement already satisfied: langgraph-prebuilt<0.7.0,>=0.6.0 in /opt/anaconda3/lib/python3.12/site-packages (from langgraph) (0.6.3)\n",
      "Requirement already satisfied: langgraph-sdk<0.3.0,>=0.2.0 in /opt/anaconda3/lib/python3.12/site-packages (from langgraph) (0.2.0)\n",
      "Requirement already satisfied: pydantic>=2.7.4 in /opt/anaconda3/lib/python3.12/site-packages (from langgraph) (2.8.2)\n",
      "Requirement already satisfied: xxhash>=3.5.0 in /opt/anaconda3/lib/python3.12/site-packages (from langgraph) (3.5.0)\n",
      "Requirement already satisfied: langsmith>=0.3.45 in /opt/anaconda3/lib/python3.12/site-packages (from langchain-core>=0.1->langgraph) (0.4.8)\n",
      "Requirement already satisfied: tenacity!=8.4.0,<10.0.0,>=8.1.0 in /opt/anaconda3/lib/python3.12/site-packages (from langchain-core>=0.1->langgraph) (8.2.3)\n",
      "Requirement already satisfied: jsonpatch<2.0,>=1.33 in /opt/anaconda3/lib/python3.12/site-packages (from langchain-core>=0.1->langgraph) (1.33)\n",
      "Requirement already satisfied: PyYAML>=5.3 in /opt/anaconda3/lib/python3.12/site-packages (from langchain-core>=0.1->langgraph) (6.0.1)\n",
      "Requirement already satisfied: typing-extensions>=4.7 in /opt/anaconda3/lib/python3.12/site-packages (from langchain-core>=0.1->langgraph) (4.11.0)\n",
      "Requirement already satisfied: packaging>=23.2 in /opt/anaconda3/lib/python3.12/site-packages (from langchain-core>=0.1->langgraph) (24.1)\n",
      "Requirement already satisfied: ormsgpack>=1.10.0 in /opt/anaconda3/lib/python3.12/site-packages (from langgraph-checkpoint<3.0.0,>=2.1.0->langgraph) (1.10.0)\n",
      "Requirement already satisfied: httpx>=0.25.2 in /opt/anaconda3/lib/python3.12/site-packages (from langgraph-sdk<0.3.0,>=0.2.0->langgraph) (0.27.0)\n",
      "Requirement already satisfied: orjson>=3.10.1 in /opt/anaconda3/lib/python3.12/site-packages (from langgraph-sdk<0.3.0,>=0.2.0->langgraph) (3.11.1)\n",
      "Requirement already satisfied: annotated-types>=0.4.0 in /opt/anaconda3/lib/python3.12/site-packages (from pydantic>=2.7.4->langgraph) (0.6.0)\n",
      "Requirement already satisfied: pydantic-core==2.20.1 in /opt/anaconda3/lib/python3.12/site-packages (from pydantic>=2.7.4->langgraph) (2.20.1)\n",
      "Requirement already satisfied: anyio in /opt/anaconda3/lib/python3.12/site-packages (from httpx>=0.25.2->langgraph-sdk<0.3.0,>=0.2.0->langgraph) (4.2.0)\n",
      "Requirement already satisfied: certifi in /opt/anaconda3/lib/python3.12/site-packages (from httpx>=0.25.2->langgraph-sdk<0.3.0,>=0.2.0->langgraph) (2025.8.3)\n",
      "Requirement already satisfied: httpcore==1.* in /opt/anaconda3/lib/python3.12/site-packages (from httpx>=0.25.2->langgraph-sdk<0.3.0,>=0.2.0->langgraph) (1.0.2)\n",
      "Requirement already satisfied: idna in /opt/anaconda3/lib/python3.12/site-packages (from httpx>=0.25.2->langgraph-sdk<0.3.0,>=0.2.0->langgraph) (3.7)\n",
      "Requirement already satisfied: sniffio in /opt/anaconda3/lib/python3.12/site-packages (from httpx>=0.25.2->langgraph-sdk<0.3.0,>=0.2.0->langgraph) (1.3.0)\n",
      "Requirement already satisfied: h11<0.15,>=0.13 in /opt/anaconda3/lib/python3.12/site-packages (from httpcore==1.*->httpx>=0.25.2->langgraph-sdk<0.3.0,>=0.2.0->langgraph) (0.14.0)\n",
      "Requirement already satisfied: jsonpointer>=1.9 in /opt/anaconda3/lib/python3.12/site-packages (from jsonpatch<2.0,>=1.33->langchain-core>=0.1->langgraph) (2.1)\n",
      "Requirement already satisfied: requests<3,>=2 in /opt/anaconda3/lib/python3.12/site-packages (from langsmith>=0.3.45->langchain-core>=0.1->langgraph) (2.32.3)\n",
      "Requirement already satisfied: requests-toolbelt<2.0.0,>=1.0.0 in /opt/anaconda3/lib/python3.12/site-packages (from langsmith>=0.3.45->langchain-core>=0.1->langgraph) (1.0.0)\n",
      "Requirement already satisfied: zstandard<0.24.0,>=0.23.0 in /opt/anaconda3/lib/python3.12/site-packages (from langsmith>=0.3.45->langchain-core>=0.1->langgraph) (0.23.0)\n",
      "Requirement already satisfied: charset-normalizer<4,>=2 in /opt/anaconda3/lib/python3.12/site-packages (from requests<3,>=2->langsmith>=0.3.45->langchain-core>=0.1->langgraph) (3.3.2)\n",
      "Requirement already satisfied: urllib3<3,>=1.21.1 in /opt/anaconda3/lib/python3.12/site-packages (from requests<3,>=2->langsmith>=0.3.45->langchain-core>=0.1->langgraph) (2.2.3)\n",
      "Requirement already satisfied: langchain-openai in /opt/anaconda3/lib/python3.12/site-packages (0.3.28)\n",
      "Requirement already satisfied: langchain-core<1.0.0,>=0.3.68 in /opt/anaconda3/lib/python3.12/site-packages (from langchain-openai) (0.3.72)\n",
      "Requirement already satisfied: openai<2.0.0,>=1.86.0 in /opt/anaconda3/lib/python3.12/site-packages (from langchain-openai) (1.97.1)\n",
      "Requirement already satisfied: tiktoken<1,>=0.7 in /opt/anaconda3/lib/python3.12/site-packages (from langchain-openai) (0.9.0)\n",
      "Requirement already satisfied: langsmith>=0.3.45 in /opt/anaconda3/lib/python3.12/site-packages (from langchain-core<1.0.0,>=0.3.68->langchain-openai) (0.4.8)\n",
      "Requirement already satisfied: tenacity!=8.4.0,<10.0.0,>=8.1.0 in /opt/anaconda3/lib/python3.12/site-packages (from langchain-core<1.0.0,>=0.3.68->langchain-openai) (8.2.3)\n",
      "Requirement already satisfied: jsonpatch<2.0,>=1.33 in /opt/anaconda3/lib/python3.12/site-packages (from langchain-core<1.0.0,>=0.3.68->langchain-openai) (1.33)\n",
      "Requirement already satisfied: PyYAML>=5.3 in /opt/anaconda3/lib/python3.12/site-packages (from langchain-core<1.0.0,>=0.3.68->langchain-openai) (6.0.1)\n",
      "Requirement already satisfied: typing-extensions>=4.7 in /opt/anaconda3/lib/python3.12/site-packages (from langchain-core<1.0.0,>=0.3.68->langchain-openai) (4.11.0)\n",
      "Requirement already satisfied: packaging>=23.2 in /opt/anaconda3/lib/python3.12/site-packages (from langchain-core<1.0.0,>=0.3.68->langchain-openai) (24.1)\n",
      "Requirement already satisfied: pydantic>=2.7.4 in /opt/anaconda3/lib/python3.12/site-packages (from langchain-core<1.0.0,>=0.3.68->langchain-openai) (2.8.2)\n",
      "Requirement already satisfied: anyio<5,>=3.5.0 in /opt/anaconda3/lib/python3.12/site-packages (from openai<2.0.0,>=1.86.0->langchain-openai) (4.2.0)\n",
      "Requirement already satisfied: distro<2,>=1.7.0 in /opt/anaconda3/lib/python3.12/site-packages (from openai<2.0.0,>=1.86.0->langchain-openai) (1.9.0)\n",
      "Requirement already satisfied: httpx<1,>=0.23.0 in /opt/anaconda3/lib/python3.12/site-packages (from openai<2.0.0,>=1.86.0->langchain-openai) (0.27.0)\n",
      "Requirement already satisfied: jiter<1,>=0.4.0 in /opt/anaconda3/lib/python3.12/site-packages (from openai<2.0.0,>=1.86.0->langchain-openai) (0.10.0)\n",
      "Requirement already satisfied: sniffio in /opt/anaconda3/lib/python3.12/site-packages (from openai<2.0.0,>=1.86.0->langchain-openai) (1.3.0)\n",
      "Requirement already satisfied: tqdm>4 in /opt/anaconda3/lib/python3.12/site-packages (from openai<2.0.0,>=1.86.0->langchain-openai) (4.66.5)\n",
      "Requirement already satisfied: regex>=2022.1.18 in /opt/anaconda3/lib/python3.12/site-packages (from tiktoken<1,>=0.7->langchain-openai) (2024.9.11)\n",
      "Requirement already satisfied: requests>=2.26.0 in /opt/anaconda3/lib/python3.12/site-packages (from tiktoken<1,>=0.7->langchain-openai) (2.32.3)\n",
      "Requirement already satisfied: idna>=2.8 in /opt/anaconda3/lib/python3.12/site-packages (from anyio<5,>=3.5.0->openai<2.0.0,>=1.86.0->langchain-openai) (3.7)\n",
      "Requirement already satisfied: certifi in /opt/anaconda3/lib/python3.12/site-packages (from httpx<1,>=0.23.0->openai<2.0.0,>=1.86.0->langchain-openai) (2025.8.3)\n",
      "Requirement already satisfied: httpcore==1.* in /opt/anaconda3/lib/python3.12/site-packages (from httpx<1,>=0.23.0->openai<2.0.0,>=1.86.0->langchain-openai) (1.0.2)\n",
      "Requirement already satisfied: h11<0.15,>=0.13 in /opt/anaconda3/lib/python3.12/site-packages (from httpcore==1.*->httpx<1,>=0.23.0->openai<2.0.0,>=1.86.0->langchain-openai) (0.14.0)\n",
      "Requirement already satisfied: jsonpointer>=1.9 in /opt/anaconda3/lib/python3.12/site-packages (from jsonpatch<2.0,>=1.33->langchain-core<1.0.0,>=0.3.68->langchain-openai) (2.1)\n",
      "Requirement already satisfied: orjson<4.0.0,>=3.9.14 in /opt/anaconda3/lib/python3.12/site-packages (from langsmith>=0.3.45->langchain-core<1.0.0,>=0.3.68->langchain-openai) (3.11.1)\n",
      "Requirement already satisfied: requests-toolbelt<2.0.0,>=1.0.0 in /opt/anaconda3/lib/python3.12/site-packages (from langsmith>=0.3.45->langchain-core<1.0.0,>=0.3.68->langchain-openai) (1.0.0)\n",
      "Requirement already satisfied: zstandard<0.24.0,>=0.23.0 in /opt/anaconda3/lib/python3.12/site-packages (from langsmith>=0.3.45->langchain-core<1.0.0,>=0.3.68->langchain-openai) (0.23.0)\n",
      "Requirement already satisfied: annotated-types>=0.4.0 in /opt/anaconda3/lib/python3.12/site-packages (from pydantic>=2.7.4->langchain-core<1.0.0,>=0.3.68->langchain-openai) (0.6.0)\n",
      "Requirement already satisfied: pydantic-core==2.20.1 in /opt/anaconda3/lib/python3.12/site-packages (from pydantic>=2.7.4->langchain-core<1.0.0,>=0.3.68->langchain-openai) (2.20.1)\n",
      "Requirement already satisfied: charset-normalizer<4,>=2 in /opt/anaconda3/lib/python3.12/site-packages (from requests>=2.26.0->tiktoken<1,>=0.7->langchain-openai) (3.3.2)\n",
      "Requirement already satisfied: urllib3<3,>=1.21.1 in /opt/anaconda3/lib/python3.12/site-packages (from requests>=2.26.0->tiktoken<1,>=0.7->langchain-openai) (2.2.3)\n",
      "Requirement already satisfied: langchain_community in /opt/anaconda3/lib/python3.12/site-packages (0.3.27)\n",
      "Requirement already satisfied: langchain-core<1.0.0,>=0.3.66 in /opt/anaconda3/lib/python3.12/site-packages (from langchain_community) (0.3.72)\n",
      "Requirement already satisfied: langchain<1.0.0,>=0.3.26 in /opt/anaconda3/lib/python3.12/site-packages (from langchain_community) (0.3.27)\n",
      "Requirement already satisfied: SQLAlchemy<3,>=1.4 in /opt/anaconda3/lib/python3.12/site-packages (from langchain_community) (2.0.34)\n",
      "Requirement already satisfied: requests<3,>=2 in /opt/anaconda3/lib/python3.12/site-packages (from langchain_community) (2.32.3)\n",
      "Requirement already satisfied: PyYAML>=5.3 in /opt/anaconda3/lib/python3.12/site-packages (from langchain_community) (6.0.1)\n",
      "Requirement already satisfied: aiohttp<4.0.0,>=3.8.3 in /opt/anaconda3/lib/python3.12/site-packages (from langchain_community) (3.12.14)\n",
      "Requirement already satisfied: tenacity!=8.4.0,<10,>=8.1.0 in /opt/anaconda3/lib/python3.12/site-packages (from langchain_community) (8.2.3)\n",
      "Requirement already satisfied: dataclasses-json<0.7,>=0.5.7 in /opt/anaconda3/lib/python3.12/site-packages (from langchain_community) (0.6.7)\n",
      "Requirement already satisfied: pydantic-settings<3.0.0,>=2.4.0 in /opt/anaconda3/lib/python3.12/site-packages (from langchain_community) (2.6.1)\n",
      "Requirement already satisfied: langsmith>=0.1.125 in /opt/anaconda3/lib/python3.12/site-packages (from langchain_community) (0.4.8)\n",
      "Requirement already satisfied: httpx-sse<1.0.0,>=0.4.0 in /opt/anaconda3/lib/python3.12/site-packages (from langchain_community) (0.4.1)\n",
      "Requirement already satisfied: numpy>=1.26.2 in /opt/anaconda3/lib/python3.12/site-packages (from langchain_community) (1.26.4)\n",
      "Requirement already satisfied: aiohappyeyeballs>=2.5.0 in /opt/anaconda3/lib/python3.12/site-packages (from aiohttp<4.0.0,>=3.8.3->langchain_community) (2.6.1)\n",
      "Requirement already satisfied: aiosignal>=1.4.0 in /opt/anaconda3/lib/python3.12/site-packages (from aiohttp<4.0.0,>=3.8.3->langchain_community) (1.4.0)\n",
      "Requirement already satisfied: attrs>=17.3.0 in /opt/anaconda3/lib/python3.12/site-packages (from aiohttp<4.0.0,>=3.8.3->langchain_community) (23.1.0)\n",
      "Requirement already satisfied: frozenlist>=1.1.1 in /opt/anaconda3/lib/python3.12/site-packages (from aiohttp<4.0.0,>=3.8.3->langchain_community) (1.4.0)\n",
      "Requirement already satisfied: multidict<7.0,>=4.5 in /opt/anaconda3/lib/python3.12/site-packages (from aiohttp<4.0.0,>=3.8.3->langchain_community) (6.0.4)\n",
      "Requirement already satisfied: propcache>=0.2.0 in /opt/anaconda3/lib/python3.12/site-packages (from aiohttp<4.0.0,>=3.8.3->langchain_community) (0.3.2)\n",
      "Requirement already satisfied: yarl<2.0,>=1.17.0 in /opt/anaconda3/lib/python3.12/site-packages (from aiohttp<4.0.0,>=3.8.3->langchain_community) (1.20.1)\n",
      "Requirement already satisfied: marshmallow<4.0.0,>=3.18.0 in /opt/anaconda3/lib/python3.12/site-packages (from dataclasses-json<0.7,>=0.5.7->langchain_community) (3.26.1)\n",
      "Requirement already satisfied: typing-inspect<1,>=0.4.0 in /opt/anaconda3/lib/python3.12/site-packages (from dataclasses-json<0.7,>=0.5.7->langchain_community) (0.9.0)\n",
      "Requirement already satisfied: langchain-text-splitters<1.0.0,>=0.3.9 in /opt/anaconda3/lib/python3.12/site-packages (from langchain<1.0.0,>=0.3.26->langchain_community) (0.3.9)\n",
      "Requirement already satisfied: pydantic<3.0.0,>=2.7.4 in /opt/anaconda3/lib/python3.12/site-packages (from langchain<1.0.0,>=0.3.26->langchain_community) (2.8.2)\n",
      "Requirement already satisfied: jsonpatch<2.0,>=1.33 in /opt/anaconda3/lib/python3.12/site-packages (from langchain-core<1.0.0,>=0.3.66->langchain_community) (1.33)\n",
      "Requirement already satisfied: typing-extensions>=4.7 in /opt/anaconda3/lib/python3.12/site-packages (from langchain-core<1.0.0,>=0.3.66->langchain_community) (4.11.0)\n",
      "Requirement already satisfied: packaging>=23.2 in /opt/anaconda3/lib/python3.12/site-packages (from langchain-core<1.0.0,>=0.3.66->langchain_community) (24.1)\n",
      "Requirement already satisfied: httpx<1,>=0.23.0 in /opt/anaconda3/lib/python3.12/site-packages (from langsmith>=0.1.125->langchain_community) (0.27.0)\n",
      "Requirement already satisfied: orjson<4.0.0,>=3.9.14 in /opt/anaconda3/lib/python3.12/site-packages (from langsmith>=0.1.125->langchain_community) (3.11.1)\n",
      "Requirement already satisfied: requests-toolbelt<2.0.0,>=1.0.0 in /opt/anaconda3/lib/python3.12/site-packages (from langsmith>=0.1.125->langchain_community) (1.0.0)\n",
      "Requirement already satisfied: zstandard<0.24.0,>=0.23.0 in /opt/anaconda3/lib/python3.12/site-packages (from langsmith>=0.1.125->langchain_community) (0.23.0)\n",
      "Requirement already satisfied: python-dotenv>=0.21.0 in /opt/anaconda3/lib/python3.12/site-packages (from pydantic-settings<3.0.0,>=2.4.0->langchain_community) (0.21.0)\n",
      "Requirement already satisfied: charset-normalizer<4,>=2 in /opt/anaconda3/lib/python3.12/site-packages (from requests<3,>=2->langchain_community) (3.3.2)\n",
      "Requirement already satisfied: idna<4,>=2.5 in /opt/anaconda3/lib/python3.12/site-packages (from requests<3,>=2->langchain_community) (3.7)\n",
      "Requirement already satisfied: urllib3<3,>=1.21.1 in /opt/anaconda3/lib/python3.12/site-packages (from requests<3,>=2->langchain_community) (2.2.3)\n",
      "Requirement already satisfied: certifi>=2017.4.17 in /opt/anaconda3/lib/python3.12/site-packages (from requests<3,>=2->langchain_community) (2025.8.3)\n",
      "Requirement already satisfied: anyio in /opt/anaconda3/lib/python3.12/site-packages (from httpx<1,>=0.23.0->langsmith>=0.1.125->langchain_community) (4.2.0)\n",
      "Requirement already satisfied: httpcore==1.* in /opt/anaconda3/lib/python3.12/site-packages (from httpx<1,>=0.23.0->langsmith>=0.1.125->langchain_community) (1.0.2)\n",
      "Requirement already satisfied: sniffio in /opt/anaconda3/lib/python3.12/site-packages (from httpx<1,>=0.23.0->langsmith>=0.1.125->langchain_community) (1.3.0)\n",
      "Requirement already satisfied: h11<0.15,>=0.13 in /opt/anaconda3/lib/python3.12/site-packages (from httpcore==1.*->httpx<1,>=0.23.0->langsmith>=0.1.125->langchain_community) (0.14.0)\n",
      "Requirement already satisfied: jsonpointer>=1.9 in /opt/anaconda3/lib/python3.12/site-packages (from jsonpatch<2.0,>=1.33->langchain-core<1.0.0,>=0.3.66->langchain_community) (2.1)\n",
      "Requirement already satisfied: annotated-types>=0.4.0 in /opt/anaconda3/lib/python3.12/site-packages (from pydantic<3.0.0,>=2.7.4->langchain<1.0.0,>=0.3.26->langchain_community) (0.6.0)\n",
      "Requirement already satisfied: pydantic-core==2.20.1 in /opt/anaconda3/lib/python3.12/site-packages (from pydantic<3.0.0,>=2.7.4->langchain<1.0.0,>=0.3.26->langchain_community) (2.20.1)\n",
      "Requirement already satisfied: mypy-extensions>=0.3.0 in /opt/anaconda3/lib/python3.12/site-packages (from typing-inspect<1,>=0.4.0->dataclasses-json<0.7,>=0.5.7->langchain_community) (1.0.0)\n",
      "Requirement already satisfied: langchain in /opt/anaconda3/lib/python3.12/site-packages (0.3.27)\n",
      "Requirement already satisfied: tavily-python in /opt/anaconda3/lib/python3.12/site-packages (0.7.10)\n",
      "Requirement already satisfied: langchain-core<1.0.0,>=0.3.72 in /opt/anaconda3/lib/python3.12/site-packages (from langchain) (0.3.72)\n",
      "Requirement already satisfied: langchain-text-splitters<1.0.0,>=0.3.9 in /opt/anaconda3/lib/python3.12/site-packages (from langchain) (0.3.9)\n",
      "Requirement already satisfied: langsmith>=0.1.17 in /opt/anaconda3/lib/python3.12/site-packages (from langchain) (0.4.8)\n",
      "Requirement already satisfied: pydantic<3.0.0,>=2.7.4 in /opt/anaconda3/lib/python3.12/site-packages (from langchain) (2.8.2)\n",
      "Requirement already satisfied: SQLAlchemy<3,>=1.4 in /opt/anaconda3/lib/python3.12/site-packages (from langchain) (2.0.34)\n",
      "Requirement already satisfied: requests<3,>=2 in /opt/anaconda3/lib/python3.12/site-packages (from langchain) (2.32.3)\n",
      "Requirement already satisfied: PyYAML>=5.3 in /opt/anaconda3/lib/python3.12/site-packages (from langchain) (6.0.1)\n",
      "Requirement already satisfied: tiktoken>=0.5.1 in /opt/anaconda3/lib/python3.12/site-packages (from tavily-python) (0.9.0)\n",
      "Requirement already satisfied: httpx in /opt/anaconda3/lib/python3.12/site-packages (from tavily-python) (0.27.0)\n",
      "Requirement already satisfied: tenacity!=8.4.0,<10.0.0,>=8.1.0 in /opt/anaconda3/lib/python3.12/site-packages (from langchain-core<1.0.0,>=0.3.72->langchain) (8.2.3)\n",
      "Requirement already satisfied: jsonpatch<2.0,>=1.33 in /opt/anaconda3/lib/python3.12/site-packages (from langchain-core<1.0.0,>=0.3.72->langchain) (1.33)\n",
      "Requirement already satisfied: typing-extensions>=4.7 in /opt/anaconda3/lib/python3.12/site-packages (from langchain-core<1.0.0,>=0.3.72->langchain) (4.11.0)\n",
      "Requirement already satisfied: packaging>=23.2 in /opt/anaconda3/lib/python3.12/site-packages (from langchain-core<1.0.0,>=0.3.72->langchain) (24.1)\n",
      "Requirement already satisfied: orjson<4.0.0,>=3.9.14 in /opt/anaconda3/lib/python3.12/site-packages (from langsmith>=0.1.17->langchain) (3.11.1)\n",
      "Requirement already satisfied: requests-toolbelt<2.0.0,>=1.0.0 in /opt/anaconda3/lib/python3.12/site-packages (from langsmith>=0.1.17->langchain) (1.0.0)\n",
      "Requirement already satisfied: zstandard<0.24.0,>=0.23.0 in /opt/anaconda3/lib/python3.12/site-packages (from langsmith>=0.1.17->langchain) (0.23.0)\n",
      "Requirement already satisfied: anyio in /opt/anaconda3/lib/python3.12/site-packages (from httpx->tavily-python) (4.2.0)\n",
      "Requirement already satisfied: certifi in /opt/anaconda3/lib/python3.12/site-packages (from httpx->tavily-python) (2025.8.3)\n",
      "Requirement already satisfied: httpcore==1.* in /opt/anaconda3/lib/python3.12/site-packages (from httpx->tavily-python) (1.0.2)\n",
      "Requirement already satisfied: idna in /opt/anaconda3/lib/python3.12/site-packages (from httpx->tavily-python) (3.7)\n",
      "Requirement already satisfied: sniffio in /opt/anaconda3/lib/python3.12/site-packages (from httpx->tavily-python) (1.3.0)\n",
      "Requirement already satisfied: h11<0.15,>=0.13 in /opt/anaconda3/lib/python3.12/site-packages (from httpcore==1.*->httpx->tavily-python) (0.14.0)\n",
      "Requirement already satisfied: annotated-types>=0.4.0 in /opt/anaconda3/lib/python3.12/site-packages (from pydantic<3.0.0,>=2.7.4->langchain) (0.6.0)\n",
      "Requirement already satisfied: pydantic-core==2.20.1 in /opt/anaconda3/lib/python3.12/site-packages (from pydantic<3.0.0,>=2.7.4->langchain) (2.20.1)\n",
      "Requirement already satisfied: charset-normalizer<4,>=2 in /opt/anaconda3/lib/python3.12/site-packages (from requests<3,>=2->langchain) (3.3.2)\n",
      "Requirement already satisfied: urllib3<3,>=1.21.1 in /opt/anaconda3/lib/python3.12/site-packages (from requests<3,>=2->langchain) (2.2.3)\n",
      "Requirement already satisfied: regex>=2022.1.18 in /opt/anaconda3/lib/python3.12/site-packages (from tiktoken>=0.5.1->tavily-python) (2024.9.11)\n",
      "Requirement already satisfied: jsonpointer>=1.9 in /opt/anaconda3/lib/python3.12/site-packages (from jsonpatch<2.0,>=1.33->langchain-core<1.0.0,>=0.3.72->langchain) (2.1)\n",
      "Requirement already satisfied: langgraph-checkpoint-sqlite in /opt/anaconda3/lib/python3.12/site-packages (2.0.11)\n",
      "Requirement already satisfied: aiosqlite>=0.20 in /opt/anaconda3/lib/python3.12/site-packages (from langgraph-checkpoint-sqlite) (0.21.0)\n",
      "Requirement already satisfied: langgraph-checkpoint<3.0.0,>=2.0.21 in /opt/anaconda3/lib/python3.12/site-packages (from langgraph-checkpoint-sqlite) (2.1.1)\n",
      "Requirement already satisfied: sqlite-vec>=0.1.6 in /opt/anaconda3/lib/python3.12/site-packages (from langgraph-checkpoint-sqlite) (0.1.6)\n",
      "Requirement already satisfied: typing_extensions>=4.0 in /opt/anaconda3/lib/python3.12/site-packages (from aiosqlite>=0.20->langgraph-checkpoint-sqlite) (4.11.0)\n",
      "Requirement already satisfied: langchain-core>=0.2.38 in /opt/anaconda3/lib/python3.12/site-packages (from langgraph-checkpoint<3.0.0,>=2.0.21->langgraph-checkpoint-sqlite) (0.3.72)\n",
      "Requirement already satisfied: ormsgpack>=1.10.0 in /opt/anaconda3/lib/python3.12/site-packages (from langgraph-checkpoint<3.0.0,>=2.0.21->langgraph-checkpoint-sqlite) (1.10.0)\n",
      "Requirement already satisfied: langsmith>=0.3.45 in /opt/anaconda3/lib/python3.12/site-packages (from langchain-core>=0.2.38->langgraph-checkpoint<3.0.0,>=2.0.21->langgraph-checkpoint-sqlite) (0.4.8)\n",
      "Requirement already satisfied: tenacity!=8.4.0,<10.0.0,>=8.1.0 in /opt/anaconda3/lib/python3.12/site-packages (from langchain-core>=0.2.38->langgraph-checkpoint<3.0.0,>=2.0.21->langgraph-checkpoint-sqlite) (8.2.3)\n",
      "Requirement already satisfied: jsonpatch<2.0,>=1.33 in /opt/anaconda3/lib/python3.12/site-packages (from langchain-core>=0.2.38->langgraph-checkpoint<3.0.0,>=2.0.21->langgraph-checkpoint-sqlite) (1.33)\n",
      "Requirement already satisfied: PyYAML>=5.3 in /opt/anaconda3/lib/python3.12/site-packages (from langchain-core>=0.2.38->langgraph-checkpoint<3.0.0,>=2.0.21->langgraph-checkpoint-sqlite) (6.0.1)\n",
      "Requirement already satisfied: packaging>=23.2 in /opt/anaconda3/lib/python3.12/site-packages (from langchain-core>=0.2.38->langgraph-checkpoint<3.0.0,>=2.0.21->langgraph-checkpoint-sqlite) (24.1)\n",
      "Requirement already satisfied: pydantic>=2.7.4 in /opt/anaconda3/lib/python3.12/site-packages (from langchain-core>=0.2.38->langgraph-checkpoint<3.0.0,>=2.0.21->langgraph-checkpoint-sqlite) (2.8.2)\n",
      "Requirement already satisfied: jsonpointer>=1.9 in /opt/anaconda3/lib/python3.12/site-packages (from jsonpatch<2.0,>=1.33->langchain-core>=0.2.38->langgraph-checkpoint<3.0.0,>=2.0.21->langgraph-checkpoint-sqlite) (2.1)\n",
      "Requirement already satisfied: httpx<1,>=0.23.0 in /opt/anaconda3/lib/python3.12/site-packages (from langsmith>=0.3.45->langchain-core>=0.2.38->langgraph-checkpoint<3.0.0,>=2.0.21->langgraph-checkpoint-sqlite) (0.27.0)\n",
      "Requirement already satisfied: orjson<4.0.0,>=3.9.14 in /opt/anaconda3/lib/python3.12/site-packages (from langsmith>=0.3.45->langchain-core>=0.2.38->langgraph-checkpoint<3.0.0,>=2.0.21->langgraph-checkpoint-sqlite) (3.11.1)\n",
      "Requirement already satisfied: requests<3,>=2 in /opt/anaconda3/lib/python3.12/site-packages (from langsmith>=0.3.45->langchain-core>=0.2.38->langgraph-checkpoint<3.0.0,>=2.0.21->langgraph-checkpoint-sqlite) (2.32.3)\n",
      "Requirement already satisfied: requests-toolbelt<2.0.0,>=1.0.0 in /opt/anaconda3/lib/python3.12/site-packages (from langsmith>=0.3.45->langchain-core>=0.2.38->langgraph-checkpoint<3.0.0,>=2.0.21->langgraph-checkpoint-sqlite) (1.0.0)\n",
      "Requirement already satisfied: zstandard<0.24.0,>=0.23.0 in /opt/anaconda3/lib/python3.12/site-packages (from langsmith>=0.3.45->langchain-core>=0.2.38->langgraph-checkpoint<3.0.0,>=2.0.21->langgraph-checkpoint-sqlite) (0.23.0)\n",
      "Requirement already satisfied: annotated-types>=0.4.0 in /opt/anaconda3/lib/python3.12/site-packages (from pydantic>=2.7.4->langchain-core>=0.2.38->langgraph-checkpoint<3.0.0,>=2.0.21->langgraph-checkpoint-sqlite) (0.6.0)\n",
      "Requirement already satisfied: pydantic-core==2.20.1 in /opt/anaconda3/lib/python3.12/site-packages (from pydantic>=2.7.4->langchain-core>=0.2.38->langgraph-checkpoint<3.0.0,>=2.0.21->langgraph-checkpoint-sqlite) (2.20.1)\n",
      "Requirement already satisfied: anyio in /opt/anaconda3/lib/python3.12/site-packages (from httpx<1,>=0.23.0->langsmith>=0.3.45->langchain-core>=0.2.38->langgraph-checkpoint<3.0.0,>=2.0.21->langgraph-checkpoint-sqlite) (4.2.0)\n",
      "Requirement already satisfied: certifi in /opt/anaconda3/lib/python3.12/site-packages (from httpx<1,>=0.23.0->langsmith>=0.3.45->langchain-core>=0.2.38->langgraph-checkpoint<3.0.0,>=2.0.21->langgraph-checkpoint-sqlite) (2025.8.3)\n",
      "Requirement already satisfied: httpcore==1.* in /opt/anaconda3/lib/python3.12/site-packages (from httpx<1,>=0.23.0->langsmith>=0.3.45->langchain-core>=0.2.38->langgraph-checkpoint<3.0.0,>=2.0.21->langgraph-checkpoint-sqlite) (1.0.2)\n",
      "Requirement already satisfied: idna in /opt/anaconda3/lib/python3.12/site-packages (from httpx<1,>=0.23.0->langsmith>=0.3.45->langchain-core>=0.2.38->langgraph-checkpoint<3.0.0,>=2.0.21->langgraph-checkpoint-sqlite) (3.7)\n",
      "Requirement already satisfied: sniffio in /opt/anaconda3/lib/python3.12/site-packages (from httpx<1,>=0.23.0->langsmith>=0.3.45->langchain-core>=0.2.38->langgraph-checkpoint<3.0.0,>=2.0.21->langgraph-checkpoint-sqlite) (1.3.0)\n",
      "Requirement already satisfied: h11<0.15,>=0.13 in /opt/anaconda3/lib/python3.12/site-packages (from httpcore==1.*->httpx<1,>=0.23.0->langsmith>=0.3.45->langchain-core>=0.2.38->langgraph-checkpoint<3.0.0,>=2.0.21->langgraph-checkpoint-sqlite) (0.14.0)\n",
      "Requirement already satisfied: charset-normalizer<4,>=2 in /opt/anaconda3/lib/python3.12/site-packages (from requests<3,>=2->langsmith>=0.3.45->langchain-core>=0.2.38->langgraph-checkpoint<3.0.0,>=2.0.21->langgraph-checkpoint-sqlite) (3.3.2)\n",
      "Requirement already satisfied: urllib3<3,>=1.21.1 in /opt/anaconda3/lib/python3.12/site-packages (from requests<3,>=2->langsmith>=0.3.45->langchain-core>=0.2.38->langgraph-checkpoint<3.0.0,>=2.0.21->langgraph-checkpoint-sqlite) (2.2.3)\n",
      "Requirement already satisfied: aiosqlite in /opt/anaconda3/lib/python3.12/site-packages (0.21.0)\n",
      "Requirement already satisfied: typing_extensions>=4.0 in /opt/anaconda3/lib/python3.12/site-packages (from aiosqlite) (4.11.0)\n"
     ]
    }
   ],
   "source": [
    "!pip install langgraph\n",
    "!pip install langchain-openai\n",
    "!pip install langchain_community\n",
    "!pip install langchain tavily-python\n",
    "!pip install langgraph-checkpoint-sqlite\n",
    "!pip install aiosqlite"
   ]
  },
  {
   "cell_type": "code",
   "execution_count": 74,
   "id": "3a67d2d3-e2ac-4c7b-bd6c-4c3910beb2c9",
   "metadata": {},
   "outputs": [],
   "source": [
    "import os\n",
    "from getpass import getpass\n",
    "if \"OPENAI_API_KEY\" not in os.environ:\n",
    "    os.environ[\"OPENAI_API_KEY\"] = getpass(\"Enter your OpenAI API key: \")"
   ]
  },
  {
   "cell_type": "code",
   "execution_count": 75,
   "id": "5295e3ae-caee-4208-8891-57969dc3e56b",
   "metadata": {},
   "outputs": [],
   "source": [
    "if \"TAVILY_API_KEY\" not in os.environ:\n",
    "    os.environ[\"TAVILY_API_KEY\"] = getpass(\"🔐 Enter your Tavily API key: \")"
   ]
  },
  {
   "cell_type": "code",
   "execution_count": 76,
   "id": "16922561-389c-4ecd-8c95-f3e6023bbaf2",
   "metadata": {},
   "outputs": [],
   "source": [
    "import langgraph\n",
    "from langgraph.graph import StateGraph, END\n",
    "from typing import TypedDict, Annotated\n",
    "import operator\n",
    "from langchain_core.messages import AnyMessage, SystemMessage, HumanMessage, ToolMessage\n",
    "from langchain_openai import ChatOpenAI\n",
    "from langchain.tools.tavily_search import TavilySearchResults"
   ]
  },
  {
   "cell_type": "code",
   "execution_count": 77,
   "id": "d6a0da1f-2861-4a7c-be2b-1c951f41765c",
   "metadata": {},
   "outputs": [
    {
     "name": "stdout",
     "output_type": "stream",
     "text": [
      "<class 'langchain_community.tools.tavily_search.tool.TavilySearchResults'>\n",
      "tavily_search_results_json\n"
     ]
    }
   ],
   "source": [
    "''' We will use the `TavilySearchResults` tool to perform real-time web searches.'''\n",
    "\n",
    "tool = TavilySearchResults(max_results=4) #increased number of results\n",
    "print(type(tool))\n",
    "print(tool.name)"
   ]
  },
  {
   "cell_type": "code",
   "execution_count": 78,
   "id": "841cdab3-8483-44be-98e6-8abe8361fa02",
   "metadata": {},
   "outputs": [],
   "source": [
    "''' Defining an agent state \n",
    "    - To track full conversation history\n",
    "    - Automatically merge messages across steps (e.g., LLM → tool → LLM)\n",
    "    - Used by every node in the LangGraph to get/update the state'''\n",
    "\n",
    "class AgentState(TypedDict):\n",
    "    messages: Annotated[list[AnyMessage], operator.add]"
   ]
  },
  {
   "cell_type": "code",
   "execution_count": 79,
   "id": "9647faf6-31d5-4938-98cb-c4bfb833da3a",
   "metadata": {},
   "outputs": [],
   "source": [
    "''' Setting up checkpointing for a LangGraph agent using SQLite.\n",
    "Enables the agent to save and restore state during execution.'''\n",
    "\n",
    "from langgraph.checkpoint.sqlite import SqliteSaver"
   ]
  },
  {
   "cell_type": "code",
   "execution_count": 80,
   "id": "d1a9b9b1-836c-4152-96ec-ec916d95023c",
   "metadata": {},
   "outputs": [],
   "source": [
    "''' Defining an AI agent that:\n",
    "\n",
    "- Uses a language model to generate thoughts and actions.\n",
    "\n",
    "- Executes actions (i.e. tools) if requested by the model.\n",
    "\n",
    "- Loops back with the results (observations) to inform the final answer.\n",
    "\n",
    "\n",
    "exists_action(self, state)\n",
    "- Checks if the latest LLM message contains tool calls.\n",
    "- Used to decide whether to run action or end the graph\n",
    "\n",
    "call_openai(self, state)\n",
    "- Sends all accumulated messages to the LLM, including an optional system prompt.\n",
    "- Returns the assistant’s next message.\n",
    "\n",
    "take_action(self, state)\n",
    "- Executes tools requested by the LLM:\n",
    "- Iterates over tool_calls\n",
    "- Looks up each tool by name\n",
    "- Invokes it with the provided args-\n",
    "- Returns the results as ToolMessages\n",
    "\n",
    "\n",
    "'''\n",
    "\n",
    "class Agent:\n",
    "\n",
    "    def __init__(self, model, tools,checkpointer, system=\"\"):\n",
    "        self.system = system\n",
    "        graph = StateGraph(AgentState)\n",
    "        graph.add_node(\"llm\", self.call_openai)\n",
    "        graph.add_node(\"action\", self.take_action)\n",
    "        graph.add_conditional_edges(\n",
    "            \"llm\",\n",
    "            self.exists_action,\n",
    "            {True: \"action\", False: END}\n",
    "        )\n",
    "        graph.add_edge(\"action\", \"llm\")\n",
    "        graph.set_entry_point(\"llm\")\n",
    "        self.graph = graph.compile(checkpointer=checkpointer) #checkpointer=checkpointer: Adds persistence—the ability to save and restore execution state using the specified checkpointer (e.g., a SqliteSaver object).\n",
    "        self.tools = {t.name: t for t in tools}\n",
    "        self.model = model.bind_tools(tools)\n",
    "\n",
    "    def exists_action(self, state: AgentState):\n",
    "        result = state['messages'][-1]\n",
    "        return len(result.tool_calls) > 0\n",
    "\n",
    "    def call_openai(self, state: AgentState):\n",
    "        messages = state['messages']\n",
    "        if self.system:\n",
    "            messages = [SystemMessage(content=self.system)] + messages\n",
    "        message = self.model.invoke(messages)\n",
    "        return {'messages': [message]}\n",
    "\n",
    "    def take_action(self, state: AgentState):\n",
    "        tool_calls = state['messages'][-1].tool_calls\n",
    "        results = []\n",
    "        for t in tool_calls:\n",
    "            print(f\"Calling: {t}\")\n",
    "            if not t['name'] in self.tools:      # check for bad tool name from LLM\n",
    "                print(\"\\n ....bad tool name....\")\n",
    "                result = \"bad tool name, retry\"  # instruct LLM to retry if bad\n",
    "            else:\n",
    "                result = self.tools[t['name']].invoke(t['args'])\n",
    "            results.append(ToolMessage(tool_call_id=t['id'], name=t['name'], content=str(result)))\n",
    "        print(\"Back to the model!\")\n",
    "        return {'messages': results}"
   ]
  },
  {
   "cell_type": "code",
   "execution_count": 81,
   "id": "4cf127e1-6f78-4f99-9d1d-cb043ab5cb37",
   "metadata": {},
   "outputs": [],
   "source": [
    "prompt = \"\"\"You are a smart research assistant. Use the search engine to look up information. \\\n",
    "You are allowed to make multiple calls (either together or in sequence). \\\n",
    "Only look up information when you are sure of what you want. \\\n",
    "If you need to look up some information before asking a follow up question, you are allowed to do that!\n",
    "\"\"\"\n",
    "\n",
    "model = ChatOpenAI(model=\"gpt-3.5-turbo\")  #reduce inference cost\n"
   ]
  },
  {
   "cell_type": "code",
   "execution_count": 82,
   "id": "b5523487-d564-4c07-b42a-cfabe4d9958a",
   "metadata": {},
   "outputs": [
    {
     "data": {
      "image/png": "[encoded data removed]",
      "text/plain": [
       "<IPython.core.display.Image object>"
      ]
     },
     "metadata": {},
     "output_type": "display_data"
    }
   ],
   "source": [
    "from IPython.display import Image, display\n",
    "\n",
    "display(Image(abot.graph.get_graph().draw_mermaid_png()))"
   ]
  },
  {
   "cell_type": "code",
   "execution_count": 89,
   "id": "21194cd2-8780-43e6-bf99-8ee7b90efcc0",
   "metadata": {},
   "outputs": [
    {
     "name": "stdout",
     "output_type": "stream",
     "text": [
      "[AIMessage(content='The current weather in San Francisco is mostly sunny with a high of 65°F. If you need more details or have any other questions about the weather in San Francisco, feel free to ask!', additional_kwargs={'refusal': None}, response_metadata={'token_usage': {'completion_tokens': 40, 'prompt_tokens': 13887, 'total_tokens': 13927, 'completion_tokens_details': {'accepted_prediction_tokens': 0, 'audio_tokens': 0, 'reasoning_tokens': 0, 'rejected_prediction_tokens': 0}, 'prompt_tokens_details': {'audio_tokens': 0, 'cached_tokens': 0}}, 'model_name': 'gpt-3.5-turbo-0125', 'system_fingerprint': None, 'id': 'chatcmpl-C0yIKdqvj00oy0y7FSuON1OiFXf77', 'service_tier': 'default', 'finish_reason': 'stop', 'logprobs': None}, id='run--5e681a0b-ded8-4dc8-afd7-baff5a94be7a-0', usage_metadata={'input_tokens': 13887, 'output_tokens': 40, 'total_tokens': 13927, 'input_token_details': {'audio': 0, 'cache_read': 0}, 'output_token_details': {'audio': 0, 'reasoning': 0}})]\n"
     ]
    }
   ],
   "source": [
    "import atexit\n",
    "\n",
    "# ✅ Manually enter the context to open the database\n",
    "saver_context = SqliteSaver.from_conn_string(\"state.db\")\n",
    "memory = saver_context.__enter__()  # get actual saver\n",
    "\n",
    "# ✅ Register proper closing at Python shutdown\n",
    "atexit.register(lambda: saver_context.__exit__(None, None, None))  # close when done\n",
    "\n",
    "''' Using stream method to get all intermediate messages\n",
    "'''\n",
    "\n",
    "abot = Agent(model, [tool], system=prompt, checkpointer=memory)\n",
    "    \n",
    "messages = [HumanMessage(content=\"What is the weather in sf?\")]\n",
    "   \n",
    "# Define a unique thread/session ID to track this conversation across agent steps and enable checkpointing\n",
    "thread = {\"configurable\": {\"thread_id\": \"1\"}}\n",
    "    \n",
    "for event in abot.graph.stream({\"messages\": messages}, thread):\n",
    "    for v in event.values():\n",
    "        print(v[\"messages\"]) "
   ]
  },
  {
   "cell_type": "code",
   "execution_count": 84,
   "id": "ca8468f8-862d-4a94-8256-c33c2d41f323",
   "metadata": {},
   "outputs": [
    {
     "name": "stdout",
     "output_type": "stream",
     "text": [
      "{'messages': [AIMessage(content='', additional_kwargs={'tool_calls': [{'id': 'call_DAaa0kf4HfcISX7k6yKKfTRE', 'function': {'arguments': '{\"query\":\"current weather in Los Angeles\"}', 'name': 'tavily_search_results_json'}, 'type': 'function'}], 'refusal': None}, response_metadata={'token_usage': {'completion_tokens': 22, 'prompt_tokens': 12150, 'total_tokens': 12172, 'completion_tokens_details': {'accepted_prediction_tokens': 0, 'audio_tokens': 0, 'reasoning_tokens': 0, 'rejected_prediction_tokens': 0}, 'prompt_tokens_details': {'audio_tokens': 0, 'cached_tokens': 0}}, 'model_name': 'gpt-3.5-turbo-0125', 'system_fingerprint': None, 'id': 'chatcmpl-C0y5d6yYxMpJ4gzyzRX63OZkYy1bB', 'service_tier': 'default', 'finish_reason': 'tool_calls', 'logprobs': None}, id='run--fdcbdf3d-bae9-4d88-8e1d-b906cfda0cca-0', tool_calls=[{'name': 'tavily_search_results_json', 'args': {'query': 'current weather in Los Angeles'}, 'id': 'call_DAaa0kf4HfcISX7k6yKKfTRE', 'type': 'tool_call'}], usage_metadata={'input_tokens': 12150, 'output_tokens': 22, 'total_tokens': 12172, 'input_token_details': {'audio': 0, 'cache_read': 0}, 'output_token_details': {'audio': 0, 'reasoning': 0}})]}\n",
      "Calling: {'name': 'tavily_search_results_json', 'args': {'query': 'current weather in Los Angeles'}, 'id': 'call_DAaa0kf4HfcISX7k6yKKfTRE', 'type': 'tool_call'}\n",
      "Back to the model!\n",
      "{'messages': [ToolMessage(content='[{\\'title\\': \\'Weather for Los Angeles\\', \\'url\\': \\'https://www.peoplesweather.com/weather/Los+Angeles/?date=2025-08-04\\', \\'content\\': \\'# Weather for Los Angeles\\\\n\\\\n##### Tuesday 5 August 2025\\\\n\\\\n|  |  |  |\\\\n| --- | --- | --- |\\\\n|  | 25°CFeels like: 25°C | SSW / 8km/h  Light Breeze |\\\\n| Partly Cloudy. Mild | | |\\\\n\\\\n|  |  |\\\\n| --- | --- |\\\\n| Pressure | 1010mb |\\\\n| Humidity | 14% |\\\\n| Rain | 0% |\\\\n| Cloud Cover | 62% |\\\\n| Dew Point | -6°C |\\\\n\\\\n|  |  |  |\\\\n| --- | --- | --- |\\\\n| This Afternoon | | |\\\\n|  | 37°C | SW / 20km/h  Moderate Breeze |\\\\n| Mostly Cloudy. Hot | | | [...] |  |  |  |\\\\n| --- | --- | --- |\\\\n| Tonight | | |\\\\n|  | 31°C | WSW / 14km/h  Gentle Breeze |\\\\n| Clear. Warm | | |\\\\n\\\\n### 6 Day Forecast for Los Angeles\\\\n\\\\n##### Weather\\\\n\\\\n##### Popular\\\\n\\\\n##### About us\\\\n\\\\n##### Newsletter\\\\n\\\\n© 2007-2025 People°s Weather Pty. Ltd., All rights reserved.\\', \\'score\\': 0.8622012}, {\\'title\\': \\'Los Angeles, CA Weather Forecast - AccuWeather\\', \\'url\\': \\'https://www.accuweather.com/en/us/los-angeles/90012/weather-forecast/347625\\', \\'content\\': \"# Los Angeles, CA\\\\n\\\\nLos Angeles\\\\n\\\\nCalifornia\\\\n\\\\n## Around the Globe\\\\n\\\\nAround the Globe\\\\n\\\\n### Hurricane Tracker\\\\n\\\\n### Severe Weather\\\\n\\\\n### Radar & Maps\\\\n\\\\n### News & Features\\\\n\\\\n### Astronomy\\\\n\\\\n### Business\\\\n\\\\n### Climate\\\\n\\\\n### Health\\\\n\\\\n### Recreation\\\\n\\\\n### Sports\\\\n\\\\n### Travel\\\\n\\\\n### Warnings\\\\n\\\\n### Data Suite\\\\n\\\\n### Forensics\\\\n\\\\n### Advertising\\\\n\\\\n### Superior Accuracy™\\\\n\\\\n### Video\\\\n\\\\n### Winter Center\\\\n\\\\n## Today\\\\n\\\\n## Today\\'s Weather\\\\n\\\\nMon, Aug 4\\\\n\\\\nMostly sunny; wildfire smoke will cause the sky to be hazy\\\\nHi: 84° [...] Tonight: Mainly clear early, then areas of low clouds forming\\\\nLo: 64°\\\\n\\\\n## Current Weather\\\\n\\\\n3:37 PM\\\\n\\\\n## Looking Ahead\\\\n\\\\nWarm from Wednesday to Friday\\\\n\\\\n## Los Angeles Weather Radar\\\\n\\\\nLos Angeles Weather Radar\\\\n\\\\n## Hourly Weather\\\\n\\\\nrain drop\\\\n\\\\nrain drop\\\\n\\\\nrain drop\\\\n\\\\nrain drop\\\\n\\\\nrain drop\\\\n\\\\nrain drop\\\\n\\\\nrain drop\\\\n\\\\nrain drop\\\\n\\\\nrain drop\\\\n\\\\nrain drop\\\\n\\\\nrain drop\\\\n\\\\nrain drop\\\\n\\\\n## 10-Day Weather Forecast\\\\n\\\\nToday\\\\n\\\\n8/4\\\\n\\\\nMostly sunny\\\\n\\\\nNight: Partly cloudy\\\\n\\\\nTue\\\\n\\\\n8/5\\\\n\\\\nAreas of low clouds, then sun\\\\n\\\\nClear to partly cloudy [...] The air has reached a high level of pollution and is unhealthy for sensitive groups. Reduce time spent outside if you are feeling symptoms such as difficulty breathing or throat irritation.\\\\n\\\\n## Allergy Outlook\\\\n\\\\nTop Stories\\\\n\\\\nSevere Weather\\\\n\\\\nMultiday severe risk to set up across the Plains\\\\n\\\\n3 hours ago\\\\n\\\\nRecreation\\\\n\\\\nThermal camera reveals how dangerously hot playgrounds get\\\\n\\\\n4 hours ago\\\\n\\\\nSevere Weather\\\\n\\\\nTorrential downpours to pose dangerous flash flood risk in Southeast\\\\n\\\\n54 minutes ago\", \\'score\\': 0.5852203}, {\\'title\\': \\'Los Angeles, CA Monthly Weather - AccuWeather\\', \\'url\\': \\'https://www.accuweather.com/en/us/los-angeles/90012/april-weather/347625\\', \\'content\\': \\'# Los Angeles, CA\\\\n\\\\nLos Angeles\\\\n\\\\nCalifornia\\\\n\\\\n## Around the Globe\\\\n\\\\nAround the Globe\\\\n\\\\n### Hurricane Tracker\\\\n\\\\n### Severe Weather\\\\n\\\\n### Radar & Maps\\\\n\\\\n### News & Features\\\\n\\\\n### Astronomy\\\\n\\\\n### Business\\\\n\\\\n### Climate\\\\n\\\\n### Health\\\\n\\\\n### Recreation\\\\n\\\\n### Sports\\\\n\\\\n### Travel\\\\n\\\\n### Warnings\\\\n\\\\n### Data Suite\\\\n\\\\n### Forensics\\\\n\\\\n### Advertising\\\\n\\\\n### Superior Accuracy™\\\\n\\\\n### Video\\\\n\\\\n### Winter Center\\\\n\\\\n## Monthly\\\\n\\\\n## April\\\\n\\\\n## 2025\\\\n\\\\n## Daily\\\\n\\\\n## Temperature Graph\\\\n\\\\n## Further Ahead\\\\n\\\\nFurther Ahead\\\\n\\\\n### May 2025\\\\n\\\\n### June 2025 [...] ### July 2025\\\\n\\\\n## Around the Globe\\\\n\\\\nAround the Globe\\\\n\\\\n### Hurricane Tracker\\\\n\\\\n### Severe Weather\\\\n\\\\n### Radar & Maps\\\\n\\\\n### News\\\\n\\\\n### Video\\\\n\\\\n### Winter Center\\\\n\\\\nTop Stories\\\\n\\\\nSevere Weather\\\\n\\\\nMultiday severe risk to set up across the Plains\\\\n\\\\n3 hours ago\\\\n\\\\nRecreation\\\\n\\\\nThermal camera reveals how dangerously hot playgrounds get\\\\n\\\\n4 hours ago\\\\n\\\\nSevere Weather\\\\n\\\\nTorrential downpours to pose dangerous flash flood risk in Southeast\\\\n\\\\n54 minutes ago\\\\n\\\\nWeather News [...] Rescuers find body of last trapped miner, bringing death toll to 6\\\\n\\\\n7 hours ago\\\\n\\\\nWeather News\\\\n\\\\nSmall earthquake hits near New York City\\\\n\\\\n8 hours ago\\\\n\\\\n## Weather Near Los Angeles:\\\\n\\\\n...\\\\n\\\\n...\\\\n\\\\n...\\', \\'score\\': 0.48191768}, {\\'title\\': \\'Weather Forecast and Conditions for Los Angeles, CA\\', \\'url\\': \\'https://weather.com/weather/today/l/Los+Angeles+CA?canonicalCityId=7d3c65d8b80674fb48647ddbc936bb8b\\', \\'content\\': \"## Recent Locations\\\\n\\\\nMenu\\\\n\\\\n## Weather Forecasts\\\\n\\\\n## Radar & Maps\\\\n\\\\n## News & Media\\\\n\\\\n## Products & Account\\\\n\\\\n## Lifestyle\\\\n\\\\n### Specialty Forecasts\\\\n\\\\n# Los Angeles, CA\\\\n\\\\n## Weather Today in Los Angeles, CA\\\\n\\\\n6:07 am\\\\n\\\\n7:50 pm\\\\n\\\\n# Hourly Weather-Los Angeles, CA\\\\n\\\\n## Now\\\\n\\\\nMostly Sunny\\\\n\\\\n## 5 pm\\\\n\\\\nPartly Cloudy\\\\n\\\\n## 6 pm\\\\n\\\\nPartly Cloudy\\\\n\\\\n## 7 pm\\\\n\\\\nPartly Cloudy\\\\n\\\\nChart small gif\\\\n\\\\n## Don\\'t Miss\\\\n\\\\n## Seasonal Hub\\\\n\\\\n# 10 Day Weather-Los Angeles, CA\\\\n\\\\n## Tonight\\\\n\\\\n## Night [...] Partly cloudy skies early will give way to cloudy skies late. Low 63F. Winds light and variable.\\\\n\\\\n## Tue 05\\\\n\\\\n## Day\\\\n\\\\nSome clouds in the morning will give way to mainly sunny skies for the afternoon. High 87F. Winds light and variable.\\\\n\\\\n## Night\\\\n\\\\nMostly clear skies. Low 63F. Winds light and variable.\\\\n\\\\n## Wed 06\\\\n\\\\n## Day\\\\n\\\\nSunshine and clouds mixed. High 88F. Winds light and variable.\\\\n\\\\n## Night\\\\n\\\\nPartly cloudy in the evening with more clouds for later at night. Low 63F. Winds light and variable. [...] The Weather Channel is the world\\'s most accurate forecaster according to ForecastWatch, Global and Regional Weather Forecast Accuracy Overview, 2021-2024, commissioned by The Weather Company.\\\\n\\\\nWeather Channel\\\\n\\\\n© The Weather Company, LLC 2025\", \\'score\\': 0.39445806}]', name='tavily_search_results_json', tool_call_id='call_DAaa0kf4HfcISX7k6yKKfTRE')]}\n",
      "{'messages': [AIMessage(content='The current weather in Los Angeles is mostly sunny with a high of 84°F. Tonight is expected to be mainly clear early, then areas of low clouds forming with a low of 64°F. If you have any more questions or need further information, feel free to ask!', additional_kwargs={'refusal': None}, response_metadata={'token_usage': {'completion_tokens': 57, 'prompt_tokens': 13816, 'total_tokens': 13873, 'completion_tokens_details': {'accepted_prediction_tokens': 0, 'audio_tokens': 0, 'reasoning_tokens': 0, 'rejected_prediction_tokens': 0}, 'prompt_tokens_details': {'audio_tokens': 0, 'cached_tokens': 0}}, 'model_name': 'gpt-3.5-turbo-0125', 'system_fingerprint': None, 'id': 'chatcmpl-C0y5jdk0xIOvkkgydDxMIWf8uwtj8', 'service_tier': 'default', 'finish_reason': 'stop', 'logprobs': None}, id='run--bbbf7e24-f315-4db2-abcd-1a84ac06df7b-0', usage_metadata={'input_tokens': 13816, 'output_tokens': 57, 'total_tokens': 13873, 'input_token_details': {'audio': 0, 'cache_read': 0}, 'output_token_details': {'audio': 0, 'reasoning': 0}})]}\n"
     ]
    }
   ],
   "source": [
    "#We have now established persistence with the checkpointer\n",
    "# When asked about la the agent knows that we are asking for the weather. We pass in the same thread id as for df\n",
    "\n",
    "messages = [HumanMessage(content=\"What about in la?\")]\n",
    "thread = {\"configurable\": {\"thread_id\": \"1\"}}\n",
    "for event in abot.graph.stream({\"messages\": messages}, thread):\n",
    "    for v in event.values():\n",
    "        print(v)"
   ]
  },
  {
   "cell_type": "code",
   "execution_count": 61,
   "id": "95e4b189-7731-48f3-9bf6-a2ffb135f776",
   "metadata": {},
   "outputs": [
    {
     "name": "stdout",
     "output_type": "stream",
     "text": [
      "{'messages': [AIMessage(content='', additional_kwargs={'tool_calls': [{'id': 'call_Uo36mG2EDG4BNI8p9vS1BntY', 'function': {'arguments': '{\"query\": \"current temperature in San Francisco\"}', 'name': 'tavily_search_results_json'}, 'type': 'function'}, {'id': 'call_CoQdai07wVXnuA1euu6oLBC1', 'function': {'arguments': '{\"query\": \"current temperature in Los Angeles\"}', 'name': 'tavily_search_results_json'}, 'type': 'function'}], 'refusal': None}, response_metadata={'token_usage': {'completion_tokens': 59, 'prompt_tokens': 7259, 'total_tokens': 7318, 'completion_tokens_details': {'accepted_prediction_tokens': 0, 'audio_tokens': 0, 'reasoning_tokens': 0, 'rejected_prediction_tokens': 0}, 'prompt_tokens_details': {'audio_tokens': 0, 'cached_tokens': 0}}, 'model_name': 'gpt-3.5-turbo-0125', 'system_fingerprint': None, 'id': 'chatcmpl-C0acW5Gc4qGlKxQ4Qf5xJh9rfH203', 'service_tier': 'default', 'finish_reason': 'tool_calls', 'logprobs': None}, id='run--d4aba9a9-2a67-4f96-9698-407ca38a5d79-0', tool_calls=[{'name': 'tavily_search_results_json', 'args': {'query': 'current temperature in San Francisco'}, 'id': 'call_Uo36mG2EDG4BNI8p9vS1BntY', 'type': 'tool_call'}, {'name': 'tavily_search_results_json', 'args': {'query': 'current temperature in Los Angeles'}, 'id': 'call_CoQdai07wVXnuA1euu6oLBC1', 'type': 'tool_call'}], usage_metadata={'input_tokens': 7259, 'output_tokens': 59, 'total_tokens': 7318, 'input_token_details': {'audio': 0, 'cache_read': 0}, 'output_token_details': {'audio': 0, 'reasoning': 0}})]}\n",
      "Calling: {'name': 'tavily_search_results_json', 'args': {'query': 'current temperature in San Francisco'}, 'id': 'call_Uo36mG2EDG4BNI8p9vS1BntY', 'type': 'tool_call'}\n",
      "Calling: {'name': 'tavily_search_results_json', 'args': {'query': 'current temperature in Los Angeles'}, 'id': 'call_CoQdai07wVXnuA1euu6oLBC1', 'type': 'tool_call'}\n",
      "Back to the model!\n",
      "{'messages': [ToolMessage(content='[{\\'title\\': \\'10-Day Weather Forecast for San Francisco, CA\\', \\'url\\': \\'https://weather.com/weather/tenday/l/San+Francisco+CA+USCA0987:1:US\\', \\'content\\': \"## Recent Locations\\\\n\\\\nMenu\\\\n\\\\n## Weather Forecasts\\\\n\\\\n## Radar & Maps\\\\n\\\\n## News & Media\\\\n\\\\n## Products & Account\\\\n\\\\n## Lifestyle\\\\n\\\\n### Specialty Forecasts\\\\n\\\\n# 10 Day Weather-San Francisco, CA\\\\n\\\\n## Small Craft Advisory\\\\n\\\\n## Today\\\\n\\\\n## Day\\\\n\\\\nSunny with gusty winds. High 67F. Winds W at 20 to 30 mph.\\\\n\\\\nundefined\\\\n\\\\nHeads-up\\\\n\\\\nWarm Temperatures, Parrotfish Blamed For Bleaching\\\\n\\\\n## Night\\\\n\\\\nA clear sky. Low around 55F. Winds W at 15 to 25 mph.\\\\n\\\\n## Mon 04\\\\n\\\\n## Day [...] Partly cloudy skies early, then becoming foggy and damp later at night. Low 56F. Winds WSW at 10 to 15 mph.\\\\n\\\\n## Sun 10\\\\n\\\\n## Day\\\\n\\\\nIntervals of clouds and sunshine. High 69F. Winds WSW at 10 to 20 mph.\\\\n\\\\n## Night\\\\n\\\\nA few clouds from time to time. Low 57F. Winds W at 10 to 15 mph.\\\\n\\\\n## Mon 11\\\\n\\\\n## Day\\\\n\\\\nPartly cloudy skies. High 68F. Winds W at 10 to 20 mph.\\\\n\\\\n## Night\\\\n\\\\nPartly to mostly cloudy. Low 56F. Winds W at 10 to 15 mph.\\\\n\\\\n## Tue 12\\\\n\\\\n## Day\\\\n\\\\nPartly cloudy skies. High 68F. Winds W at 10 to 20 mph. [...] A few clouds early, otherwise mostly sunny. High 68F. Winds WSW at 10 to 20 mph.\\\\n\\\\n## Night\\\\n\\\\nA few clouds from time to time. Low 57F. Winds WSW at 10 to 15 mph.\\\\n\\\\n## Sat 16\\\\n\\\\n## Day\\\\n\\\\nPartly cloudy skies. High 68F. Winds WSW at 10 to 20 mph.\\\\n\\\\n## Night\\\\n\\\\nA few clouds from time to time. Low 56F. Winds WSW at 10 to 15 mph.\\\\n\\\\n## Sun 17\\\\n\\\\n## Day\\\\n\\\\nSun and a few passing clouds. High 68F. Winds WSW at 10 to 20 mph.\\\\n\\\\n## Night\\\\n\\\\nA few clouds. Low 56F. Winds W at 10 to 15 mph.\\\\n\\\\n## Don\\'t Miss\\\\n\\\\n## Radar\", \\'score\\': 0.6188962}, {\\'title\\': \\'10 Day Weather-San Francisco, CA\\', \\'url\\': \\'https://weather.com/weather/5day/l/6ceaa33cf03fa585f14f1049c4114203a0689d0c82546b1ca35e76197a1731d3\\', \\'content\\': \"## Recent Locations\\\\n\\\\nMenu\\\\n\\\\n## Weather Forecasts\\\\n\\\\n## Radar & Maps\\\\n\\\\n## News & Media\\\\n\\\\n## Products & Account\\\\n\\\\n## Lifestyle\\\\n\\\\n### Specialty Forecasts\\\\n\\\\n# 10 Day Weather-San Francisco, CA\\\\n\\\\n## Small Craft Advisory\\\\n\\\\n## Today\\\\n\\\\n## Day\\\\n\\\\nSunny with gusty winds. High 67F. Winds W at 20 to 30 mph.\\\\n\\\\nundefined\\\\n\\\\nHeads-up\\\\n\\\\nWarm Temperatures, Parrotfish Blamed For Bleaching\\\\n\\\\n## Night\\\\n\\\\nA clear sky. Low around 55F. Winds W at 15 to 25 mph.\\\\n\\\\n## Mon 04\\\\n\\\\n## Day [...] Partly cloudy skies early, then becoming foggy and damp later at night. Low 56F. Winds WSW at 10 to 15 mph.\\\\n\\\\n## Sun 10\\\\n\\\\n## Day\\\\n\\\\nIntervals of clouds and sunshine. High 69F. Winds WSW at 10 to 20 mph.\\\\n\\\\n## Night\\\\n\\\\nA few clouds from time to time. Low 57F. Winds W at 10 to 15 mph.\\\\n\\\\n## Mon 11\\\\n\\\\n## Day\\\\n\\\\nPartly cloudy skies. High 68F. Winds W at 10 to 20 mph.\\\\n\\\\n## Night\\\\n\\\\nPartly to mostly cloudy. Low 56F. Winds W at 10 to 15 mph.\\\\n\\\\n## Tue 12\\\\n\\\\n## Day\\\\n\\\\nPartly cloudy skies. High 68F. Winds W at 10 to 20 mph. [...] A few clouds early, otherwise mostly sunny. High 68F. Winds WSW at 10 to 20 mph.\\\\n\\\\n## Night\\\\n\\\\nA few clouds from time to time. Low 57F. Winds WSW at 10 to 15 mph.\\\\n\\\\n## Sat 16\\\\n\\\\n## Day\\\\n\\\\nPartly cloudy skies. High 68F. Winds WSW at 10 to 20 mph.\\\\n\\\\n## Night\\\\n\\\\nA few clouds from time to time. Low 56F. Winds WSW at 10 to 15 mph.\\\\n\\\\n## Sun 17\\\\n\\\\n## Day\\\\n\\\\nSun and a few passing clouds. High 68F. Winds WSW at 10 to 20 mph.\\\\n\\\\n## Night\\\\n\\\\nA few clouds. Low 56F. Winds W at 10 to 15 mph.\\\\n\\\\n## Don\\'t Miss\\\\n\\\\n## Radar\", \\'score\\': 0.6186197}, {\\'title\\': \\'San Francisco, CA Weather Forecast - AccuWeather\\', \\'url\\': \\'https://www.accuweather.com/en/us/san-francisco/94103/weather-forecast/347629\\', \\'content\\': \"# San Francisco, CA\\\\n\\\\nSan Francisco\\\\n\\\\nCalifornia\\\\n\\\\n## Around the Globe\\\\n\\\\nAround the Globe\\\\n\\\\n### Hurricane Tracker\\\\n\\\\n### Severe Weather\\\\n\\\\n### Radar & Maps\\\\n\\\\n### News & Features\\\\n\\\\n### Astronomy\\\\n\\\\n### Business\\\\n\\\\n### Climate\\\\n\\\\n### Health\\\\n\\\\n### Recreation\\\\n\\\\n### Sports\\\\n\\\\n### Travel\\\\n\\\\n### Warnings\\\\n\\\\n### Data Suite\\\\n\\\\n### Forensics\\\\n\\\\n### Advertising\\\\n\\\\n### Superior Accuracy™\\\\n\\\\n### Video\\\\n\\\\n### Winter Center\\\\n\\\\n## Today\\\\n\\\\n## Today\\'s Weather\\\\n\\\\nSun, Aug 3\\\\n\\\\nClouds giving way to sun; breezy this afternoon\\\\nHi: 65° [...] Tonight: Mainly clear early, then areas of low clouds forming\\\\nLo: 56°\\\\n\\\\n## Current Weather\\\\n\\\\n2:33 PM\\\\n\\\\n## San Francisco Weather Radar\\\\n\\\\nSan Francisco Weather Radar\\\\n\\\\n## Hourly Weather\\\\n\\\\nrain drop\\\\n\\\\nrain drop\\\\n\\\\nrain drop\\\\n\\\\nrain drop\\\\n\\\\nrain drop\\\\n\\\\nrain drop\\\\n\\\\nrain drop\\\\n\\\\nrain drop\\\\n\\\\nrain drop\\\\n\\\\nrain drop\\\\n\\\\nrain drop\\\\n\\\\nrain drop\\\\n\\\\n## 10-Day Weather Forecast\\\\n\\\\nToday\\\\n\\\\n8/3\\\\n\\\\nBreezy this afternoon\\\\n\\\\nNight: Partly cloudy\\\\n\\\\nMon\\\\n\\\\n8/4\\\\n\\\\nBreezy in the afternoon\\\\n\\\\nPartly cloudy\\\\n\\\\nTue\\\\n\\\\n8/5\\\\n\\\\nMostly sunny\\\\n\\\\nBecoming cloudy\\\\n\\\\nWed\\\\n\\\\n8/6\", \\'score\\': 0.6102915}, {\\'title\\': \\'San Francisco, CA Weather Conditions | Weather Underground\\', \\'url\\': \\'https://www.wunderground.com/weather/us/ca/san-francisco\\', \\'content\\': \"# San Francisco, CA Weather Conditionsstar\\\\\\\\_ratehome\\\\n\\\\nicon\\\\n\\\\nThank you for reporting this station. We will review the data in question.\\\\n\\\\nYou are about to report this weather station for bad data. Please select the information that is incorrect.\\\\n\\\\nSee more\\\\n\\\\n(Reset Map)\\\\n\\\\nNo PWS\\\\n\\\\nReset Map, or Add PWS.\\\\n\\\\naccess\\\\\\\\_time 2:22 PM PDT on August 3, 2025 (GMT -7) | Updated 9 seconds ago\\\\n\\\\nicon\\\\n\\\\nSunny/Wind\\\\n\\\\nGusts 8 °mph\\\\n\\\\nToday\\'s temperature is forecast to be COOLER than yesterday.\", \\'score\\': 0.5920305}]', name='tavily_search_results_json', tool_call_id='call_Uo36mG2EDG4BNI8p9vS1BntY'), ToolMessage(content='[{\\'title\\': \\'10-Day Weather Forecast for Los Angeles, CA\\', \\'url\\': \\'https://weather.com/weather/tenday/l/Los+Angeles+CA?canonicalCityId=7d3c65d8b80674fb48647ddbc936bb8b\\', \\'content\\': \\'## Recent Locations\\\\n\\\\nMenu\\\\n\\\\n## Weather Forecasts\\\\n\\\\n## Radar & Maps\\\\n\\\\n## News & Media\\\\n\\\\n## Products & Account\\\\n\\\\n## Lifestyle\\\\n\\\\n### Specialty Forecasts\\\\n\\\\n# 10 Day Weather-Los Angeles, CA\\\\n\\\\n## Today\\\\n\\\\n## Day\\\\n\\\\nMostly sunny. High 83F. Winds light and variable.\\\\n\\\\nundefined\\\\n\\\\nHeads-up\\\\n\\\\nWarm Temperatures, Parrotfish Blamed For Bleaching\\\\n\\\\n## Night\\\\n\\\\nA few passing clouds. Low 62F. Winds light and variable.\\\\n\\\\n## Mon 04\\\\n\\\\n## Day\\\\n\\\\nPartly cloudy skies. High 86F. Winds light and variable.\\\\n\\\\n## Night [...] Mostly clear. Low near 65F. Winds light and variable.\\\\n\\\\n## Fri 08\\\\n\\\\n## Day\\\\n\\\\nA mainly sunny sky. Very hot. High around 90F. Winds light and variable.\\\\n\\\\n## Night\\\\n\\\\nMostly clear. Low 64F. Winds light and variable.\\\\n\\\\n## Sat 09\\\\n\\\\n## Day\\\\n\\\\nAbundant sunshine. High 87F. Winds light and variable.\\\\n\\\\n## Night\\\\n\\\\nMostly clear. Low 63F. Winds light and variable.\\\\n\\\\n## Sun 10\\\\n\\\\n## Day\\\\n\\\\nMostly sunny. High 86F. Winds light and variable.\\\\n\\\\n## Night\\\\n\\\\nA mostly clear sky. Low 63F. Winds light and variable.\\\\n\\\\n## Mon 11\\\\n\\\\n## Day [...] A mainly sunny sky. High around 85F. Winds light and variable.\\\\n\\\\n## Night\\\\n\\\\nA mostly clear sky. Low 63F. Winds light and variable.\\\\n\\\\n## Tue 12\\\\n\\\\n## Day\\\\n\\\\nMainly sunny. High around 85F. Winds light and variable.\\\\n\\\\n## Night\\\\n\\\\nA few clouds overnight. Low 64F. Winds light and variable.\\\\n\\\\n## Wed 13\\\\n\\\\n## Day\\\\n\\\\nMostly sunny skies. High 84F. Winds light and variable.\\\\n\\\\n## Night\\\\n\\\\nPartly cloudy. Low 64F. Winds light and variable.\\\\n\\\\n## Thu 14\\\\n\\\\n## Day\\\\n\\\\nSunny. High 83F. Winds light and variable.\\\\n\\\\n## Night\\', \\'score\\': 0.644248}, {\\'title\\': \\'Los Angeles, CA Weather Forecast - AccuWeather\\', \\'url\\': \\'https://www.accuweather.com/en/us/los-angeles/90012/weather-forecast/347625\\', \\'content\\': \"Tonight: Mainly clear; smoke from area fires will lead to poor air quality\\\\nLo: 62°\\\\n\\\\n## Current Weather\\\\n\\\\n2:33 PM\\\\n\\\\n## Looking Ahead\\\\n\\\\nWarm from Tuesday to Thursday\\\\n\\\\n## Los Angeles Weather Radar\\\\n\\\\nLos Angeles Weather Radar\\\\n\\\\n## Hourly Weather\\\\n\\\\nrain drop\\\\n\\\\nrain drop\\\\n\\\\nrain drop\\\\n\\\\nrain drop\\\\n\\\\nrain drop\\\\n\\\\nrain drop\\\\n\\\\nrain drop\\\\n\\\\nrain drop\\\\n\\\\nrain drop\\\\n\\\\nrain drop\\\\n\\\\nrain drop\\\\n\\\\nrain drop\\\\n\\\\n## 10-Day Weather Forecast\\\\n\\\\nToday\\\\n\\\\n8/3\\\\n\\\\nHazy sun\\\\n\\\\nNight: Mainly clear\\\\n\\\\nMon\\\\n\\\\n8/4\\\\n\\\\nMostly sunny\\\\n\\\\nPartly cloudy\\\\n\\\\nTue\\\\n\\\\n8/5 [...] # Los Angeles, CA\\\\n\\\\nLos Angeles\\\\n\\\\nCalifornia\\\\n\\\\n## Around the Globe\\\\n\\\\nAround the Globe\\\\n\\\\n### Hurricane Tracker\\\\n\\\\n### Severe Weather\\\\n\\\\n### Radar & Maps\\\\n\\\\n### News & Features\\\\n\\\\n### Astronomy\\\\n\\\\n### Business\\\\n\\\\n### Climate\\\\n\\\\n### Health\\\\n\\\\n### Recreation\\\\n\\\\n### Sports\\\\n\\\\n### Travel\\\\n\\\\n### Warnings\\\\n\\\\n### Data Suite\\\\n\\\\n### Forensics\\\\n\\\\n### Advertising\\\\n\\\\n### Superior Accuracy™\\\\n\\\\n### Video\\\\n\\\\n### Winter Center\\\\n\\\\n## Today\\\\n\\\\n## Today\\'s Weather\\\\n\\\\nSun, Aug 3\\\\n\\\\nHazy sun\\\\nHi: 85° [...] Astronomy\\\\n\\\\n3 big astronomy events packed into 1 week in August sky\\\\n\\\\n2 days ago\\\\n\\\\nWeather Forecasts\\\\n\\\\nBuilding western US heat dome may set records, cause fires to surge\\\\n\\\\n2 hours ago\\\\n\\\\nFeatured Stories\\\\n\\\\nWeather News\\\\n\\\\nWeather sparks firefly mania, but will it last?\\\\n\\\\n2 days ago\\\\n\\\\nClearing the air: Heat index of 182 degrees in Iran likely false\\\\n\\\\nLATEST ENTRY\\\\n\\\\nHeat index challenges world record, but is it real?\\\\n\\\\n2 days ago\\\\n\\\\nTravel\\\\n\\\\nUS Navy F-35 crashes in California, pilot ejects safely\\\\n\\\\n3 days ago\", \\'score\\': 0.61196244}, {\\'title\\': \\'Weather Forecast and Conditions for Los Angeles, CA\\', \\'url\\': \\'https://weather.com/weather/today/l/Los+Angeles+CA?canonicalCityId=7d3c65d8b80674fb48647ddbc936bb8b\\', \\'content\\': \"## Recent Locations\\\\n\\\\nMenu\\\\n\\\\n## Weather Forecasts\\\\n\\\\n## Radar & Maps\\\\n\\\\n## News & Media\\\\n\\\\n## Products & Account\\\\n\\\\n## Lifestyle\\\\n\\\\n### Specialty Forecasts\\\\n\\\\n# Los Angeles, CA\\\\n\\\\n## Weather Today in Los Angeles, CA\\\\n\\\\n6:06 am\\\\n\\\\n7:51 pm\\\\n\\\\n# Hourly Weather-Los Angeles, CA\\\\n\\\\n## Now\\\\n\\\\nSunny\\\\n\\\\n## 4 pm\\\\n\\\\nSunny\\\\n\\\\n## 5 pm\\\\n\\\\nSunny\\\\n\\\\n## 6 pm\\\\n\\\\nSunny\\\\n\\\\nChart small gif\\\\n\\\\n## Don\\'t Miss\\\\n\\\\n## Seasonal Hub\\\\n\\\\n# 10 Day Weather-Los Angeles, CA\\\\n\\\\n## Today\\\\n\\\\n## Day\\\\n\\\\nMostly sunny. High 79F. Winds W at 5 to 10 mph.\\\\n\\\\n## Night [...] Mainly clear. Low 63F. Winds light and variable.\\\\n\\\\n## Mon 04\\\\n\\\\n## Day\\\\n\\\\nIntervals of clouds and sunshine. High 86F. Winds light and variable.\\\\n\\\\n## Night\\\\n\\\\nPartly cloudy in the evening with more clouds for later at night. Low 63F. Winds light and variable.\\\\n\\\\n## Tue 05\\\\n\\\\n## Day\\\\n\\\\nSun and a few passing clouds. High 87F. Winds light and variable.\\\\n\\\\n## Night\\\\n\\\\nSome clouds early will give way to generally clear conditions overnight. Low 62F. Winds light and variable.\\\\n\\\\n## Wed 06\\\\n\\\\n## Day [...] Mostly sunny skies. High 89F. Winds light and variable.\\\\n\\\\n## Night\\\\n\\\\nA mostly clear sky. Low 64F. Winds light and variable.\\\\n\\\\n## Radar\\\\n\\\\n## Travel\\\\n\\\\n## We Love Our Critters\\\\n\\\\n## Summer And Your Skin\\\\n\\\\n## Home, Garage & Garden\\\\n\\\\n## August Outlook\\\\n\\\\n## Keeping You Healthy\\\\n\\\\n## Product Reviews & Deals\\\\n\\\\nundefined\\\\n\\\\nN95 Masks And Air Purifiers: Wildfire Smoke Protection\\\\n\\\\nundefined\\\\n\\\\nBattle Heat Waves And Humidity With These Dehumidifier Deals\\\\n\\\\nundefined\", \\'score\\': 0.60245985}, {\\'title\\': \\'Los Angeles weather in August 2025 | Weather25.com\\', \\'url\\': \\'https://www.weather25.com/north-america/usa/california/los-angeles?page=month&month=August\\', \\'content\\': \\'| Month | Temperatures | Rainy Days | Dry Days | Snowy Days | Rainfall | Weather | More details |\\\\n| --- | --- | --- | --- | --- | --- | --- | --- |\\\\n| January | 21° / 11° | 3 | 28 | 0 | 58 mm | Good | Los Angeles in January |\\\\n| February | 20° / 11° | 2 | 27 | 0 | 56 mm | Good | Los Angeles in February |\\\\n| March | 22° / 12° | 2 | 29 | 0 | 34 mm | Good | Los Angeles in March |\\\\n| April | 24° / 13° | 1 | 29 | 0 | 18 mm | Perfect | Los Angeles in April | [...] | May | 25° / 15° | 0 | 31 | 0 | 4 mm | Perfect | Los Angeles in May |\\\\n| June | 27° / 17° | 0 | 30 | 0 | 1 mm | Perfect | Los Angeles in June |\\\\n| July | 30° / 20° | 0 | 31 | 0 | 5 mm | Good | Los Angeles in July |\\\\n| August | 31° / 21° | 0 | 31 | 0 | 3 mm | Good | Los Angeles in August |\\\\n| September | 31° / 21° | 0 | 30 | 0 | 4 mm | Good | Los Angeles in September |\\\\n| October | 27° / 18° | 1 | 30 | 0 | 10 mm | Perfect | Los Angeles in October | [...] weather25.com\\\\nSearch\\\\nweather in United States\\\\nRemove from your favorite locations\\\\nAdd to my locations\\\\nShare\\\\nweather in United States\\\\n\\\\n# Los Angeles weather in August 2025\\\\n\\\\nPartly cloudy\\\\nPartly cloudy\\\\nPartly cloudy\\\\nPartly cloudy\\\\nClear\\\\nClear\\\\nClear\\\\nClear\\\\nClear\\\\nClear\\\\nClear\\\\nClear\\\\nClear\\\\nClear\\\\n\\\\n## The average weather in Los Angeles in August\\\\n\\\\nThe weather in Los Angeles in August is hot. The average temperatures are between 21°C and 31°C.\\', \\'score\\': 0.5948579}]', name='tavily_search_results_json', tool_call_id='call_CoQdai07wVXnuA1euu6oLBC1')]}\n",
      "{'messages': [AIMessage(content='The current temperature in San Francisco is 65°F, while the current temperature in Los Angeles is 85°F. Therefore, Los Angeles is warmer than San Francisco at the moment. If you have any more questions or need further information, feel free to ask!', additional_kwargs={'refusal': None}, response_metadata={'token_usage': {'completion_tokens': 53, 'prompt_tokens': 12014, 'total_tokens': 12067, 'completion_tokens_details': {'accepted_prediction_tokens': 0, 'audio_tokens': 0, 'reasoning_tokens': 0, 'rejected_prediction_tokens': 0}, 'prompt_tokens_details': {'audio_tokens': 0, 'cached_tokens': 0}}, 'model_name': 'gpt-3.5-turbo-0125', 'system_fingerprint': None, 'id': 'chatcmpl-C0acfFJ2DO5TVQz4MxLEvFG2mUEGb', 'service_tier': 'default', 'finish_reason': 'stop', 'logprobs': None}, id='run--00a0541a-4588-4dc0-b4b7-b28bb655ea1e-0', usage_metadata={'input_tokens': 12014, 'output_tokens': 53, 'total_tokens': 12067, 'input_token_details': {'audio': 0, 'cache_read': 0}, 'output_token_details': {'audio': 0, 'reasoning': 0}})]}\n"
     ]
    }
   ],
   "source": [
    "messages = [HumanMessage(content=\"Which one is warmer?\")]\n",
    "thread = {\"configurable\": {\"thread_id\": \"1\"}} #If we do not pass in thread id the agent will not have access to any history\n",
    "for event in abot.graph.stream({\"messages\": messages}, thread):\n",
    "    for v in event.values():\n",
    "        print(v)"
   ]
  },
  {
   "cell_type": "code",
   "execution_count": 85,
   "id": "19a11f9b-4b67-4d30-bed5-18fbe0b60317",
   "metadata": {},
   "outputs": [],
   "source": [
    "## Streaming tokens"
   ]
  },
  {
   "cell_type": "code",
   "execution_count": 103,
   "id": "b6a18563-d02e-4430-b6b5-cecb314f5238",
   "metadata": {},
   "outputs": [
    {
     "name": "stdout",
     "output_type": "stream",
     "text": [
      "Calling: {'name': 'tavily_search_results_json', 'args': {'query': 'current weather in San Francisco'}, 'id': 'call_zZNNJ9vvOjgd2ftoHYFY4CCi', 'type': 'tool_call'}\n",
      "Back to the model!\n",
      "I| found| some| sources| that| provide| information| on| the| current| weather| in| San| Francisco|:\n",
      "\n",
      "|1|.| **|San| Francisco|,| CA| Weather| Forecast| -| Acc|u|Weather|**:| This| site| offers| a| detailed| weather| forecast| for| San| Francisco|,| including| information| on| today|'s| weather|,| current| weather| conditions|,| hourly| weather| updates|,| and| a| |10|-day| weather| forecast|.\n",
      "\n",
      "|2|.| **|San| Francisco| weather| in| August| |202|5| || Weather|25|.com|**:| This| source| provides| temperature| details|,| rainy| days|,| dry| days|,| and| other| weather|-related| information| for| San| Francisco| in| August| |202|5|.\n",
      "\n",
      "|3|.| **|Current| Weather| -| San| Francisco|,| CA| -| Acc|u|Weather|**:| This| source| gives| specific| details| such| as| wind| gust|s|,| probability| of| precipitation|,| cloud| cover|,| and| other| current| weather| information| for| San| Francisco|.\n",
      "\n",
      "|If| you| need| more| specific| details| or| have| any| other| questions| about| the| weather| in| San| Francisco|,| feel| free| to| ask|!|"
     ]
    }
   ],
   "source": [
    "from langgraph.checkpoint.sqlite.aio import AsyncSqliteSaver\n",
    "\n",
    "async with AsyncSqliteSaver.from_conn_string(\"state.db\") as memory:\n",
    "    thread = {\"configurable\": {\"thread_id\": \"4\"}}\n",
    "    \n",
    "    abot = Agent(model, [tool], system=prompt, checkpointer=memory)\n",
    "    \n",
    "    messages = [HumanMessage(content=\"What is the weather in SF?\")]\n",
    "    async for event in abot.graph.astream_events({\"messages\": messages}, thread, version=\"v1\"):\n",
    "        kind = event[\"event\"]\n",
    "        if kind == \"on_chat_model_stream\":\n",
    "            content = event[\"data\"][\"chunk\"].content\n",
    "            if content:\n",
    "            # Empty content in the context of OpenAI means\n",
    "            # that the model is asking for a tool to be invoked.\n",
    "            # So we only print non-empty content\n",
    "                print(content, end=\"|\")\n"
   ]
  },
  {
   "cell_type": "code",
   "execution_count": null,
   "id": "f939ccbd-85ec-4c9e-946f-f352d8fa10c4",
   "metadata": {},
   "outputs": [],
   "source": []
  }
 ],
 "metadata": {
  "kernelspec": {
   "display_name": "Python 3 (ipykernel)",
   "language": "python",
   "name": "python3"
  },
  "language_info": {
   "codemirror_mode": {
    "name": "ipython",
    "version": 3
   },
   "file_extension": ".py",
   "mimetype": "text/x-python",
   "name": "python",
   "nbconvert_exporter": "python",
   "pygments_lexer": "ipython3",
   "version": "3.12.2"
  }
 },
 "nbformat": 4,
 "nbformat_minor": 5
}
